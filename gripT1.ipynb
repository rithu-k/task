{
  "nbformat": 4,
  "nbformat_minor": 0,
  "metadata": {
    "colab": {
      "name": "gripT1.ipynb",
      "provenance": [],
      "collapsed_sections": [],
      "authorship_tag": "ABX9TyNYURYFGd6U4YbS3xZFsQwN",
      "include_colab_link": true
    },
    "kernelspec": {
      "name": "python3",
      "display_name": "Python 3"
    }
  },
  "cells": [
    {
      "cell_type": "markdown",
      "metadata": {
        "id": "view-in-github",
        "colab_type": "text"
      },
      "source": [
        "<a href=\"https://colab.research.google.com/github/rithu-k/task/blob/main/gripT1.ipynb\" target=\"_parent\"><img src=\"https://colab.research.google.com/assets/colab-badge.svg\" alt=\"Open In Colab\"/></a>"
      ]
    },
    {
      "cell_type": "markdown",
      "metadata": {
        "id": "HzzGCLRZ4P3Q"
      },
      "source": [
        "RITHU KRISHNAN"
      ]
    },
    {
      "cell_type": "markdown",
      "metadata": {
        "id": "fAvdte0Cy-AC"
      },
      "source": [
        "**GRIP TASK 1:** Predict the percentage of a student based on the no. of study hours."
      ]
    },
    {
      "cell_type": "code",
      "metadata": {
        "id": "V9QN2ZxC38pB"
      },
      "source": [
        "# IMPORTING REQUIRED LIBRARIES\n",
        "import pandas as pd\n",
        "import numpy as np  \n",
        "import matplotlib.pyplot as plt  \n",
        "%matplotlib inline"
      ],
      "execution_count": 2,
      "outputs": []
    },
    {
      "cell_type": "code",
      "metadata": {
        "id": "iPk6961Zyu7a",
        "colab": {
          "base_uri": "https://localhost:8080/",
          "height": 198
        },
        "outputId": "69aecc05-c587-41bb-e225-675f54d084bd"
      },
      "source": [
        "#READING DATA TO A DATAFRAME\r\n",
        "url = \"http://bit.ly/w-data\"\r\n",
        "data = pd.read_csv(url)\r\n",
        "data.head()\r\n",
        " \r\n"
      ],
      "execution_count": 3,
      "outputs": [
        {
          "output_type": "execute_result",
          "data": {
            "text/html": [
              "<div>\n",
              "<style scoped>\n",
              "    .dataframe tbody tr th:only-of-type {\n",
              "        vertical-align: middle;\n",
              "    }\n",
              "\n",
              "    .dataframe tbody tr th {\n",
              "        vertical-align: top;\n",
              "    }\n",
              "\n",
              "    .dataframe thead th {\n",
              "        text-align: right;\n",
              "    }\n",
              "</style>\n",
              "<table border=\"1\" class=\"dataframe\">\n",
              "  <thead>\n",
              "    <tr style=\"text-align: right;\">\n",
              "      <th></th>\n",
              "      <th>Hours</th>\n",
              "      <th>Scores</th>\n",
              "    </tr>\n",
              "  </thead>\n",
              "  <tbody>\n",
              "    <tr>\n",
              "      <th>0</th>\n",
              "      <td>2.5</td>\n",
              "      <td>21</td>\n",
              "    </tr>\n",
              "    <tr>\n",
              "      <th>1</th>\n",
              "      <td>5.1</td>\n",
              "      <td>47</td>\n",
              "    </tr>\n",
              "    <tr>\n",
              "      <th>2</th>\n",
              "      <td>3.2</td>\n",
              "      <td>27</td>\n",
              "    </tr>\n",
              "    <tr>\n",
              "      <th>3</th>\n",
              "      <td>8.5</td>\n",
              "      <td>75</td>\n",
              "    </tr>\n",
              "    <tr>\n",
              "      <th>4</th>\n",
              "      <td>3.5</td>\n",
              "      <td>30</td>\n",
              "    </tr>\n",
              "  </tbody>\n",
              "</table>\n",
              "</div>"
            ],
            "text/plain": [
              "   Hours  Scores\n",
              "0    2.5      21\n",
              "1    5.1      47\n",
              "2    3.2      27\n",
              "3    8.5      75\n",
              "4    3.5      30"
            ]
          },
          "metadata": {
            "tags": []
          },
          "execution_count": 3
        }
      ]
    },
    {
      "cell_type": "markdown",
      "metadata": {
        "id": "QsExfUO62a8x"
      },
      "source": [
        "EXPLORING THE DATA\r\n",
        "\r\n"
      ]
    },
    {
      "cell_type": "code",
      "metadata": {
        "id": "u1qg9Nn6Ea9K",
        "colab": {
          "base_uri": "https://localhost:8080/"
        },
        "outputId": "76e1a06f-d95a-48cb-e739-b0c28fab619c"
      },
      "source": [
        "data.shape"
      ],
      "execution_count": 4,
      "outputs": [
        {
          "output_type": "execute_result",
          "data": {
            "text/plain": [
              "(25, 2)"
            ]
          },
          "metadata": {
            "tags": []
          },
          "execution_count": 4
        }
      ]
    },
    {
      "cell_type": "code",
      "metadata": {
        "id": "BfEtxm1XzvVW",
        "colab": {
          "base_uri": "https://localhost:8080/",
          "height": 295
        },
        "outputId": "bd20d27d-38e6-41bf-8103-745574c8ece1"
      },
      "source": [
        "# VISUALIZING THE GIVEN DATA\r\n",
        "data.plot(x='Hours', y='Scores', style='o')  \r\n",
        "plt.title('Hours vs Percentage')  \r\n",
        "plt.xlabel('Hours Studied')  \r\n",
        "plt.ylabel('Percentage Score')  \r\n",
        "plt.show()"
      ],
      "execution_count": 5,
      "outputs": [
        {
          "output_type": "display_data",
          "data": {
            "image/png": "[encoded data removed]",
            "text/plain": [
              "<Figure size 432x288 with 1 Axes>"
            ]
          },
          "metadata": {
            "tags": [],
            "needs_background": "light"
          }
        }
      ]
    },
    {
      "cell_type": "markdown",
      "metadata": {
        "id": "LXBzlLYZ0m9_"
      },
      "source": [
        "We can clearly see a positive relation between score and study hours\r\n",
        "\r\n",
        "SIMPLE LINEAR REGRESSION can be used for supervised machine learning (only 2 variables involved)"
      ]
    },
    {
      "cell_type": "code",
      "metadata": {
        "id": "V_PeXnaJ02K3"
      },
      "source": [
        "#INDEPENDENT VARIABLE x & DEPENDENT VARIABLE y\r\n",
        "x = data.iloc[:, :-1].values  \r\n",
        "y = data.iloc[:, 1].values  "
      ],
      "execution_count": 7,
      "outputs": []
    },
    {
      "cell_type": "code",
      "metadata": {
        "id": "eDFHbQt42HVt"
      },
      "source": [
        "#SPLITING DATA INTO TESTING AND TRAINING DATA (in 3:7 ratio)\r\n",
        "from sklearn.model_selection import train_test_split \r\n",
        "x_train, x_test, y_train, y_test = train_test_split(x, y,test_size=0.3, random_state=0) "
      ],
      "execution_count": 8,
      "outputs": []
    },
    {
      "cell_type": "markdown",
      "metadata": {
        "id": "cY2gJ86c3fBt"
      },
      "source": [
        "TRAINING THE ALGORITHM"
      ]
    },
    {
      "cell_type": "code",
      "metadata": {
        "id": "SpDWc9tu3deB",
        "colab": {
          "base_uri": "https://localhost:8080/"
        },
        "outputId": "f00e91a0-43b2-4645-f440-5b4f6ddc76b5"
      },
      "source": [
        "from sklearn.linear_model import LinearRegression  \r\n",
        "reg = LinearRegression()  \r\n",
        "reg.fit(x_train, y_train) \r\n",
        "\r\n",
        "print(\"Training complete.\")"
      ],
      "execution_count": 9,
      "outputs": [
        {
          "output_type": "stream",
          "text": [
            "Training complete.\n"
          ],
          "name": "stdout"
        }
      ]
    },
    {
      "cell_type": "code",
      "metadata": {
        "id": "z4t1Wdkz4m33",
        "colab": {
          "base_uri": "https://localhost:8080/",
          "height": 265
        },
        "outputId": "4a626fd8-3463-4e97-9c7a-af061a6177d4"
      },
      "source": [
        "# VISUALIING REGRESSION LINE (y=mx+c)\r\n",
        "line = reg.coef_*x + reg.intercept_\r\n",
        "\r\n",
        "# Plotting testing data\r\n",
        "plt.scatter(x, y)\r\n",
        "plt.plot(x, line);\r\n",
        "plt.show()"
      ],
      "execution_count": 10,
      "outputs": [
        {
          "output_type": "display_data",
          "data": {
            "image/png": "[encoded data removed]",
            "text/plain": [
              "<Figure size 432x288 with 1 Axes>"
            ]
          },
          "metadata": {
            "tags": [],
            "needs_background": "light"
          }
        }
      ]
    },
    {
      "cell_type": "code",
      "metadata": {
        "id": "OMP32DDCGE1Y",
        "colab": {
          "base_uri": "https://localhost:8080/"
        },
        "outputId": "2aa7f1fb-74c7-4d14-947d-e9390cc42589"
      },
      "source": [
        "print(\"Intercept is :,\", reg.intercept_)\r\n",
        "print( \"Coefficient is : \",reg.coef_)"
      ],
      "execution_count": 11,
      "outputs": [
        {
          "output_type": "stream",
          "text": [
            "Intercept is :, 2.3708153823418883\n",
            "Coefficient is :  [9.78856669]\n"
          ],
          "name": "stdout"
        }
      ]
    },
    {
      "cell_type": "markdown",
      "metadata": {
        "id": "dB1xjz-dISVH"
      },
      "source": [
        "The calculation show that for every unit change in hours studied, the change in score will be 9.78%"
      ]
    },
    {
      "cell_type": "code",
      "metadata": {
        "id": "AvQS1tVh6f7P"
      },
      "source": [
        "#PREDICTING ON TESTING DATA\r\n",
        "y_pred = reg.predict(x_test)"
      ],
      "execution_count": 12,
      "outputs": []
    },
    {
      "cell_type": "code",
      "metadata": {
        "id": "Ta6cs351785X",
        "colab": {
          "base_uri": "https://localhost:8080/",
          "height": 288
        },
        "outputId": "81a617b9-1395-4610-af9d-85ec8b804b1d"
      },
      "source": [
        "# THE ACTUAL vs PREDICTED VALUES OF y (for each x_test)\r\n",
        "df = pd.DataFrame({'Actual': y_test, 'Predicted': y_pred}) \r\n",
        "df"
      ],
      "execution_count": 13,
      "outputs": [
        {
          "output_type": "execute_result",
          "data": {
            "text/html": [
              "<div>\n",
              "<style scoped>\n",
              "    .dataframe tbody tr th:only-of-type {\n",
              "        vertical-align: middle;\n",
              "    }\n",
              "\n",
              "    .dataframe tbody tr th {\n",
              "        vertical-align: top;\n",
              "    }\n",
              "\n",
              "    .dataframe thead th {\n",
              "        text-align: right;\n",
              "    }\n",
              "</style>\n",
              "<table border=\"1\" class=\"dataframe\">\n",
              "  <thead>\n",
              "    <tr style=\"text-align: right;\">\n",
              "      <th></th>\n",
              "      <th>Actual</th>\n",
              "      <th>Predicted</th>\n",
              "    </tr>\n",
              "  </thead>\n",
              "  <tbody>\n",
              "    <tr>\n",
              "      <th>0</th>\n",
              "      <td>20</td>\n",
              "      <td>17.053665</td>\n",
              "    </tr>\n",
              "    <tr>\n",
              "      <th>1</th>\n",
              "      <td>27</td>\n",
              "      <td>33.694229</td>\n",
              "    </tr>\n",
              "    <tr>\n",
              "      <th>2</th>\n",
              "      <td>69</td>\n",
              "      <td>74.806209</td>\n",
              "    </tr>\n",
              "    <tr>\n",
              "      <th>3</th>\n",
              "      <td>30</td>\n",
              "      <td>26.842232</td>\n",
              "    </tr>\n",
              "    <tr>\n",
              "      <th>4</th>\n",
              "      <td>62</td>\n",
              "      <td>60.123359</td>\n",
              "    </tr>\n",
              "    <tr>\n",
              "      <th>5</th>\n",
              "      <td>35</td>\n",
              "      <td>39.567369</td>\n",
              "    </tr>\n",
              "    <tr>\n",
              "      <th>6</th>\n",
              "      <td>24</td>\n",
              "      <td>20.969092</td>\n",
              "    </tr>\n",
              "    <tr>\n",
              "      <th>7</th>\n",
              "      <td>86</td>\n",
              "      <td>78.721636</td>\n",
              "    </tr>\n",
              "  </tbody>\n",
              "</table>\n",
              "</div>"
            ],
            "text/plain": [
              "   Actual  Predicted\n",
              "0      20  17.053665\n",
              "1      27  33.694229\n",
              "2      69  74.806209\n",
              "3      30  26.842232\n",
              "4      62  60.123359\n",
              "5      35  39.567369\n",
              "6      24  20.969092\n",
              "7      86  78.721636"
            ]
          },
          "metadata": {
            "tags": []
          },
          "execution_count": 13
        }
      ]
    },
    {
      "cell_type": "code",
      "metadata": {
        "id": "uGTFOnSS9xFO",
        "colab": {
          "base_uri": "https://localhost:8080/",
          "height": 575
        },
        "outputId": "a04f2afb-dd89-4b94-d5fe-73e0c711318b"
      },
      "source": [
        "#VISUALIZING ACTUAL vs PREDICTED VALUES\r\n",
        "plt.scatter(x_test, y_test)\r\n",
        "plt.title('ACTUAL VALUES')  \r\n",
        "plt.xlabel('x_test values')  \r\n",
        "plt.ylabel('y_test values')  \r\n",
        "plt.show( )\r\n",
        "\r\n",
        "plt.scatter(x_test, y_pred)\r\n",
        "plt.title('PREDICTED VALUES')  \r\n",
        "plt.xlabel('x_test values')  \r\n",
        "plt.ylabel('y_pred values')  \r\n",
        "plt.show( )"
      ],
      "execution_count": 14,
      "outputs": [
        {
          "output_type": "display_data",
          "data": {
            "image/png": "[encoded data removed]",
            "text/plain": [
              "<Figure size 432x288 with 1 Axes>"
            ]
          },
          "metadata": {
            "tags": [],
            "needs_background": "light"
          }
        },
        {
          "output_type": "display_data",
          "data": {
            "image/png": "[encoded data removed]",
            "text/plain": [
              "<Figure size 432x288 with 1 Axes>"
            ]
          },
          "metadata": {
            "tags": [],
            "needs_background": "light"
          }
        }
      ]
    },
    {
      "cell_type": "code",
      "metadata": {
        "colab": {
          "base_uri": "https://localhost:8080/"
        },
        "id": "jxXZRsyb3sT1",
        "outputId": "2b6a89ac-6342-4aa9-b325-88670f650b20"
      },
      "source": [
        "#TESTING WITH MY DATA\r\n",
        "hours = 9.25\r\n",
        "own_pred = reg.predict([[hours]])\r\n",
        "print(\"No of Hours = {}\".format(hours))\r\n",
        "print(\"Predicted Score = {}\".format(own_pred[0]))"
      ],
      "execution_count": 16,
      "outputs": [
        {
          "output_type": "stream",
          "text": [
            "No of Hours = 9.25\n",
            "Predicted Score = 92.91505723477056\n"
          ],
          "name": "stdout"
        }
      ]
    },
    {
      "cell_type": "markdown",
      "metadata": {
        "id": "FBoLs0uf_soG"
      },
      "source": [
        "EVAUATING THE ALGORITHM"
      ]
    },
    {
      "cell_type": "code",
      "metadata": {
        "id": "JtBUU051AHfU",
        "colab": {
          "base_uri": "https://localhost:8080/"
        },
        "outputId": "a4ffdcac-2d27-4841-8f5c-dae584be7b9e"
      },
      "source": [
        "from sklearn import metrics  \r\n",
        "print('Mean Absolute Error:', metrics.mean_absolute_error(y_test, y_pred)) \r\n",
        "print('Mean Squared Error:', metrics.mean_squared_error(y_test, y_pred))\r\n",
        "print('Root Mean Absolute Error:', np.sqrt(metrics.mean_absolute_error(y_test, y_pred)))"
      ],
      "execution_count": 17,
      "outputs": [
        {
          "output_type": "stream",
          "text": [
            "Mean Absolute Error: 4.419727808027651\n",
            "Mean Squared Error: 22.965097212700428\n",
            "Root Mean Absolute Error: 2.102314868907046\n"
          ],
          "name": "stdout"
        }
      ]
    }
  ]
}